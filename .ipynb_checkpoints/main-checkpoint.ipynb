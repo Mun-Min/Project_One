{
 "cells": [
  {
   "cell_type": "markdown",
   "metadata": {},
   "source": [
    "# Housing Rental Analysis for Phoenix, Arizona "
   ]
  },
  {
   "cell_type": "code",
   "execution_count": null,
   "metadata": {},
   "outputs": [],
   "source": [
    "# import libraries \n",
    "import pandas as pd \n",
    "import hvplot.pandas \n",
    "from pathlib import Path "
   ]
  },
  {
   "cell_type": "code",
   "execution_count": null,
   "metadata": {},
   "outputs": [],
   "source": [
    "# import the housing units data from 2008 - 2019\n",
    "phx_housing_units_df = pd.read_csv(Path('Resources\\housing_units_phoenix_2008_2019.csv'))\n",
    "\n",
    "# review the first and last five rows of the dataframe \n",
    "display(phx_housing_units_df.head())\n",
    "display(phx_housing_units_df.tail())"
   ]
  },
  {
   "cell_type": "code",
   "execution_count": null,
   "metadata": {},
   "outputs": [],
   "source": [
    "# group the data by year and average the results\n",
    "housing_units_by_year = phx_housing_units_df.groupby('year').mean()\n",
    "\n",
    "# rename columns with underscores \n",
    "housing_units_by_year.rename(\n",
    "    columns = {'Total Housing Units': 'Total_Housing_Units', 'Occupied Housing Units': 'Occupied_Housing_Units', 'Vacant Housing Units': 'Vacant_Housing_Units'}, \n",
    "    inplace = True)\n",
    "\n",
    "# review the dataframe \n",
    "housing_units_by_year"
   ]
  },
  {
   "cell_type": "code",
   "execution_count": null,
   "metadata": {},
   "outputs": [],
   "source": [
    "# create a visual aggregation exploring the housing units by year in Phoenix\n",
    "housing_units_by_year.hvplot.bar(\n",
    "    x = 'year', \n",
    "    y = 'Total_Housing_Units',\n",
    "    xlabel = 'Years', \n",
    "    ylabel = 'Total Housing Units', \n",
    "    title = 'Total Housing Units in Phoenix, Arizona from 2008 to 2019', \n",
    "    ylim = (housing_units_by_year.Total_Housing_Units.min() - 1000, housing_units_by_year.Total_Housing_Units.max() + 1000), \n",
    "    rot = 30, \n",
    "    height = 40, \n",
    "    width = 1000\n",
    ").opts(\n",
    "    color = 'blue', \n",
    "    hover_color = 'orange'\n",
    ")"
   ]
  }
 ],
 "metadata": {
  "kernelspec": {
   "display_name": "Python 3.7.13 ('dev')",
   "language": "python",
   "name": "python3"
  },
  "language_info": {
   "codemirror_mode": {
    "name": "ipython",
    "version": 3
   },
   "file_extension": ".py",
   "mimetype": "text/x-python",
   "name": "python",
   "nbconvert_exporter": "python",
   "pygments_lexer": "ipython3",
   "version": "3.7.13"
  },
  "orig_nbformat": 4,
  "vscode": {
   "interpreter": {
    "hash": "6a7ae136a53a24601e63a177d18d4029f938b6714f24b844ae865dcffb9f6766"
   }
  }
 },
 "nbformat": 4,
 "nbformat_minor": 2
}
