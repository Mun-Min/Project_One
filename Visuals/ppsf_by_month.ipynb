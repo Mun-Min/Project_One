{
 "cells": [
  {
   "cell_type": "code",
   "execution_count": 2,
   "id": "09db847a-2f89-4664-a26a-e8e4b51b96f9",
   "metadata": {},
   "outputs": [
    {
     "data": {
      "text/html": [
       "<div>\n",
       "<style scoped>\n",
       "    .dataframe tbody tr th:only-of-type {\n",
       "        vertical-align: middle;\n",
       "    }\n",
       "\n",
       "    .dataframe tbody tr th {\n",
       "        vertical-align: top;\n",
       "    }\n",
       "\n",
       "    .dataframe thead th {\n",
       "        text-align: right;\n",
       "    }\n",
       "</style>\n",
       "<table border=\"1\" class=\"dataframe\">\n",
       "  <thead>\n",
       "    <tr style=\"text-align: right;\">\n",
       "      <th></th>\n",
       "      <th>Unnamed: 0</th>\n",
       "      <th>Month of Period End</th>\n",
       "      <th>Month of Period End.1</th>\n",
       "      <th>Month of Period End.2</th>\n",
       "      <th>Month of Period End.3</th>\n",
       "      <th>Month of Period End.4</th>\n",
       "      <th>Month of Period End.5</th>\n",
       "      <th>Month of Period End.6</th>\n",
       "      <th>Month of Period End.7</th>\n",
       "      <th>Month of Period End.8</th>\n",
       "      <th>...</th>\n",
       "      <th>Month of Period End.116</th>\n",
       "      <th>Month of Period End.117</th>\n",
       "      <th>Month of Period End.118</th>\n",
       "      <th>Month of Period End.119</th>\n",
       "      <th>Month of Period End.120</th>\n",
       "      <th>Month of Period End.121</th>\n",
       "      <th>Month of Period End.122</th>\n",
       "      <th>Month of Period End.123</th>\n",
       "      <th>Month of Period End.124</th>\n",
       "      <th>Month of Period End.125</th>\n",
       "    </tr>\n",
       "  </thead>\n",
       "  <tbody>\n",
       "    <tr>\n",
       "      <th>0</th>\n",
       "      <td>Region</td>\n",
       "      <td>February 2012</td>\n",
       "      <td>March 2012</td>\n",
       "      <td>April 2012</td>\n",
       "      <td>May 2012</td>\n",
       "      <td>June 2012</td>\n",
       "      <td>July 2012</td>\n",
       "      <td>August 2012</td>\n",
       "      <td>September 2012</td>\n",
       "      <td>October 2012</td>\n",
       "      <td>...</td>\n",
       "      <td>October 2021</td>\n",
       "      <td>November 2021</td>\n",
       "      <td>December 2021</td>\n",
       "      <td>January 2022</td>\n",
       "      <td>February 2022</td>\n",
       "      <td>March 2022</td>\n",
       "      <td>April 2022</td>\n",
       "      <td>May 2022</td>\n",
       "      <td>June 2022</td>\n",
       "      <td>July 2022</td>\n",
       "    </tr>\n",
       "    <tr>\n",
       "      <th>1</th>\n",
       "      <td>Maricopa County, AZ</td>\n",
       "      <td>75.5</td>\n",
       "      <td>78.3</td>\n",
       "      <td>82.3</td>\n",
       "      <td>86.3</td>\n",
       "      <td>87</td>\n",
       "      <td>87.3</td>\n",
       "      <td>88.6</td>\n",
       "      <td>91.1</td>\n",
       "      <td>92</td>\n",
       "      <td>...</td>\n",
       "      <td>251.7</td>\n",
       "      <td>256.4</td>\n",
       "      <td>257.6</td>\n",
       "      <td>262.6</td>\n",
       "      <td>270.4</td>\n",
       "      <td>279.1</td>\n",
       "      <td>287.3</td>\n",
       "      <td>292.8</td>\n",
       "      <td>290.3</td>\n",
       "      <td>282.7</td>\n",
       "    </tr>\n",
       "  </tbody>\n",
       "</table>\n",
       "<p>2 rows × 127 columns</p>\n",
       "</div>"
      ],
      "text/plain": [
       "            Unnamed: 0 Month of Period End Month of Period End.1  \\\n",
       "0               Region       February 2012            March 2012   \n",
       "1  Maricopa County, AZ                75.5                  78.3   \n",
       "\n",
       "  Month of Period End.2 Month of Period End.3 Month of Period End.4  \\\n",
       "0            April 2012              May 2012             June 2012   \n",
       "1                  82.3                  86.3                    87   \n",
       "\n",
       "  Month of Period End.5 Month of Period End.6 Month of Period End.7  \\\n",
       "0             July 2012           August 2012        September 2012   \n",
       "1                  87.3                  88.6                  91.1   \n",
       "\n",
       "  Month of Period End.8  ... Month of Period End.116 Month of Period End.117  \\\n",
       "0          October 2012  ...            October 2021           November 2021   \n",
       "1                    92  ...                   251.7                   256.4   \n",
       "\n",
       "  Month of Period End.118 Month of Period End.119 Month of Period End.120  \\\n",
       "0           December 2021            January 2022           February 2022   \n",
       "1                   257.6                   262.6                   270.4   \n",
       "\n",
       "  Month of Period End.121 Month of Period End.122 Month of Period End.123  \\\n",
       "0              March 2022              April 2022                May 2022   \n",
       "1                   279.1                   287.3                   292.8   \n",
       "\n",
       "  Month of Period End.124 Month of Period End.125  \n",
       "0               June 2022               July 2022  \n",
       "1                   290.3                   282.7  \n",
       "\n",
       "[2 rows x 127 columns]"
      ]
     },
     "execution_count": 2,
     "metadata": {},
     "output_type": "execute_result"
    }
   ],
   "source": [
    "import pandas as pd\n",
    "import datetime as dt\n",
    "from pathlib import Path\n",
    "\n",
    "ppsf_data = Path(\"../Resources/ppsf.csv\")\n",
    "ppsf_df = pd.read_csv(ppsf_data)\n",
    "ppsf_df.head()"
   ]
  },
  {
   "cell_type": "code",
   "execution_count": 40,
   "id": "d506e4ec-e341-4bfb-88ce-af3d9b23c1fc",
   "metadata": {},
   "outputs": [],
   "source": [
    "ppsf_dt = ppsf_df.T.reset_index(drop=False)\n",
    "ppsf_dt = ppsf_dt.drop([0], axis=0)\n"
   ]
  },
  {
   "cell_type": "code",
   "execution_count": 41,
   "id": "95a4ff7e-ecb9-4412-b9e1-83a662c88e2c",
   "metadata": {},
   "outputs": [
    {
     "data": {
      "text/plain": [
       "index    object\n",
       "0        object\n",
       "1        object\n",
       "dtype: object"
      ]
     },
     "execution_count": 41,
     "metadata": {},
     "output_type": "execute_result"
    }
   ],
   "source": [
    "ppsf_dt.dtypes"
   ]
  },
  {
   "cell_type": "code",
   "execution_count": 42,
   "id": "e525ff9b-4e16-42b5-99a3-38952d6767b0",
   "metadata": {},
   "outputs": [],
   "source": [
    "#ppsf_dt = ppsf_dt[1].astype(float)"
   ]
  },
  {
   "cell_type": "code",
   "execution_count": 51,
   "id": "dfc8b1d9-d90c-44ed-a763-3531f22ff736",
   "metadata": {},
   "outputs": [
    {
     "data": {
      "text/plain": [
       "1       75.5\n",
       "2       78.3\n",
       "3       82.3\n",
       "4       86.3\n",
       "5       87.0\n",
       "       ...  \n",
       "122    279.1\n",
       "123    287.3\n",
       "124    292.8\n",
       "125    290.3\n",
       "126    282.7\n",
       "Name: 1, Length: 126, dtype: float64"
      ]
     },
     "execution_count": 51,
     "metadata": {},
     "output_type": "execute_result"
    }
   ],
   "source": [
    "ppsf_dt[1].astype(float)"
   ]
  },
  {
   "cell_type": "code",
   "execution_count": 52,
   "id": "b9b10d53-5caf-4993-8812-825199048801",
   "metadata": {},
   "outputs": [
    {
     "data": {
      "text/plain": [
       "index    object\n",
       "0        object\n",
       "1        object\n",
       "dtype: object"
      ]
     },
     "execution_count": 52,
     "metadata": {},
     "output_type": "execute_result"
    }
   ],
   "source": [
    "ppsf_dt.head()\n",
    "ppsf_dt.dtypes"
   ]
  },
  {
   "cell_type": "code",
   "execution_count": null,
   "id": "cd757b29-d6a3-471e-95ff-2af316d9aa26",
   "metadata": {},
   "outputs": [],
   "source": []
  }
 ],
 "metadata": {
  "kernelspec": {
   "display_name": "Python 3 (ipykernel)",
   "language": "python",
   "name": "python3"
  },
  "language_info": {
   "codemirror_mode": {
    "name": "ipython",
    "version": 3
   },
   "file_extension": ".py",
   "mimetype": "text/x-python",
   "name": "python",
   "nbconvert_exporter": "python",
   "pygments_lexer": "ipython3",
   "version": "3.7.13"
  }
 },
 "nbformat": 4,
 "nbformat_minor": 5
}
